{
  "nbformat": 4,
  "nbformat_minor": 0,
  "metadata": {
    "colab": {
      "provenance": []
    },
    "kernelspec": {
      "name": "python3",
      "display_name": "Python 3"
    },
    "language_info": {
      "name": "python"
    }
  },
  "cells": [
    {
      "cell_type": "code",
      "execution_count": 4,
      "metadata": {
        "colab": {
          "base_uri": "https://localhost:8080/"
        },
        "id": "WfvMw5tDpkWT",
        "outputId": "fef638b8-4bfa-4432-b5c7-99c596b0fbc7"
      },
      "outputs": [
        {
          "output_type": "stream",
          "name": "stdout",
          "text": [
            "Exibir ate o termo (maior que 2): 6\n",
            "O numero não pertence a sequencia\n"
          ]
        }
      ],
      "source": [
        "# Fibonacci\n",
        "def fibo(n):\n",
        "    if n==1:\n",
        "        return 0\n",
        "    elif n==2:\n",
        "        return 1\n",
        "    else:\n",
        "        return fibo(n-1) + fibo(n-2)\n",
        "        \n",
        "def menu():\n",
        "    n = int(input('Exibir ate o termo (maior que 2): '))\n",
        "    cont =0\n",
        "\n",
        "    for val in range(1,10000):\n",
        "        x = fibo(val)\n",
        "        if n == x:\n",
        "          print(\"O numero pertence a sequencia\")\n",
        "          cont =1\n",
        "          break\n",
        "        if x > n:\n",
        "          print(\"O numero não pertence a sequencia\")\n",
        "          break\n",
        "\n",
        "menu()"
      ]
    },
    {
      "cell_type": "code",
      "source": [
        "#Inverter String\n",
        "\n",
        "x = \"teste\"\n",
        "\n",
        "print(x[::-1])\n"
      ],
      "metadata": {
        "colab": {
          "base_uri": "https://localhost:8080/"
        },
        "id": "5N0h5CjjuLv0",
        "outputId": "7b8fac40-acbf-4487-d2ef-f84f51bfa526"
      },
      "execution_count": 9,
      "outputs": [
        {
          "output_type": "stream",
          "name": "stdout",
          "text": [
            "etset\n"
          ]
        }
      ]
    }
  ]
}